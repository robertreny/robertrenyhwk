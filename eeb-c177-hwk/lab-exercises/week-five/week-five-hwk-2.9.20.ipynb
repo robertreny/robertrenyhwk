{
 "cells": [
  {
   "cell_type": "code",
   "execution_count": 1,
   "metadata": {},
   "outputs": [],
   "source": [
    "import numpy as np"
   ]
  },
  {
   "cell_type": "code",
   "execution_count": 2,
   "metadata": {},
   "outputs": [],
   "source": [
    "data = np.loadtxt(fname='../week-four/inflammation-01.csv', delimiter=',')"
   ]
  },
  {
   "cell_type": "code",
   "execution_count": 3,
   "metadata": {},
   "outputs": [
    {
     "name": "stdout",
     "output_type": "stream",
     "text": [
      "[[0. 0. 1. ... 3. 0. 0.]\n",
      " [0. 1. 2. ... 1. 0. 1.]\n",
      " [0. 1. 1. ... 2. 1. 1.]\n",
      " ...\n",
      " [0. 0. 1. ... 3. 0. 0.]\n",
      " [0. 1. 2. ... 1. 0. 1.]\n",
      " [0. 1. 1. ... 2. 1. 1.]]\n"
     ]
    }
   ],
   "source": [
    "print(data)"
   ]
  },
  {
   "cell_type": "code",
   "execution_count": 4,
   "metadata": {},
   "outputs": [],
   "source": [
    "import matplotlib.pyplot as plt"
   ]
  },
  {
   "cell_type": "code",
   "execution_count": 6,
   "metadata": {},
   "outputs": [
    {
     "data": {
      "text/plain": [
       "[<matplotlib.lines.Line2D at 0x7f797b893390>]"
      ]
     },
     "execution_count": 6,
     "metadata": {},
     "output_type": "execute_result"
    },
    {
     "data": {
      "image/png": "[encoded data removed]",
      "text/plain": [
       "<Figure size 432x288 with 1 Axes>"
      ]
     },
     "metadata": {
      "needs_background": "light"
     },
     "output_type": "display_data"
    }
   ],
   "source": [
    "plt.plot(np.std(data, axis=0)) #std dev of all patients by day\n",
    "plt.plot(np.mean(data, axis=0))\n",
    "plt.plot(np.max(data, axis=0))"
   ]
  },
  {
   "cell_type": "markdown",
   "metadata": {},
   "source": [
    "part 2(loops)"
   ]
  },
  {
   "cell_type": "code",
   "execution_count": 11,
   "metadata": {},
   "outputs": [
    {
     "name": "stdout",
     "output_type": "stream",
     "text": [
      "1\n",
      "2\n",
      "3\n"
     ]
    }
   ],
   "source": [
    "for x in range(1,4):\n",
    "    print(x)"
   ]
  },
  {
   "cell_type": "code",
   "execution_count": 12,
   "metadata": {},
   "outputs": [
    {
     "name": "stdout",
     "output_type": "stream",
     "text": [
      "o\n",
      "x\n",
      "y\n",
      "g\n",
      "e\n",
      "n\n"
     ]
    }
   ],
   "source": [
    "word = 'oxygen'\n",
    "for char in word:\n",
    " print(char)  #The body of the loop is executed 6 times"
   ]
  },
  {
   "cell_type": "code",
   "execution_count": 60,
   "metadata": {},
   "outputs": [
    {
     "name": "stdout",
     "output_type": "stream",
     "text": [
      "4096\n"
     ]
    }
   ],
   "source": [
    "x=4\n",
    "for z in range(5):\n",
    "    l=z*z*z*z*z*(x)\n",
    "print(l) \n",
    "    \n",
    "    \n",
    "    \n",
    "    "
   ]
  },
  {
   "cell_type": "code",
   "execution_count": 8,
   "metadata": {},
   "outputs": [
    {
     "name": "stdout",
     "output_type": "stream",
     "text": [
      "alcU \n"
     ]
    }
   ],
   "source": [
    "reversestring = ' '\n",
    "for letters in 'Ucla':\n",
    "    reversestring = letters + reversestring\n",
    "print(reversestring)\n",
    "    "
   ]
  },
  {
   "cell_type": "code",
   "execution_count": 9,
   "metadata": {},
   "outputs": [
    {
     "name": "stdout",
     "output_type": "stream",
     "text": [
      "97\n"
     ]
    }
   ],
   "source": [
    "x = 5\n",
    "coefs = [2, 4, 3]\n",
    "y = coefs[0] * x**0 + coefs[1] * x**1 + coefs[2] * x**2\n",
    "print(y)"
   ]
  },
  {
   "cell_type": "code",
   "execution_count": 2,
   "metadata": {},
   "outputs": [],
   "source": [
    "from collections import defaultdict"
   ]
  },
  {
   "cell_type": "code",
   "execution_count": 87,
   "metadata": {},
   "outputs": [
    {
     "name": "stdout",
     "output_type": "stream",
     "text": [
      "68\n"
     ]
    }
   ],
   "source": [
    "x = 3\n",
    "coefs = [2,4,6]\n",
    "coefsdict = defaultdict(int)\n",
    "for idx, val in enumerate(coefs):\n",
    "    coefsdict[idx] = (val)\n",
    "    number_of_coef = len(coefs)\n",
    "y = coefsdict[0] * x**0 + coefsdict[1] * x**1 + coefsdict[2] * x**2\n",
    "print(y)\n",
    "    "
   ]
  },
  {
   "cell_type": "code",
   "execution_count": 95,
   "metadata": {},
   "outputs": [
    {
     "name": "stdout",
     "output_type": "stream",
     "text": [
      "108\n"
     ]
    }
   ],
   "source": [
    "x = 3\n",
    "coefs = [2,4,6]\n",
    "coefsdict = defaultdict(int) #integer library for coefsdict\n",
    "for idx, val in enumerate(coefs):\n",
    "    coefsdict[idx] = (val) #making library with idx: val\n",
    "    number_of_coef = len(coefs) #compute length of coefs\n",
    "    \n",
    "for n in range(0,number_of_coef):\n",
    "    l = coefsdict[n] * x**n #inbetween step\n",
    "    y = l + l \n",
    "print(y)"
   ]
  },
  {
   "cell_type": "markdown",
   "metadata": {},
   "source": [
    "#Part 3 lists"
   ]
  },
  {
   "cell_type": "markdown",
   "metadata": {},
   "source": [
    "1. a list is an ordered sequence of elements or items defined by [ ]. they are mutable/changeable\n",
    "2. to create and index a list we can use y = (' ', ' ').split()\n",
    "3. to select in a list mylist[index] and to change do mylist[index] = new\n",
    "4. mylist.append(newthing) adds newthing to end of list, or just use +, mylist + newthing = mylist, newthing"
   ]
  },
  {
   "cell_type": "markdown",
   "metadata": {},
   "source": [
    "5."
   ]
  },
  {
   "cell_type": "code",
   "execution_count": 41,
   "metadata": {},
   "outputs": [
    {
     "name": "stdout",
     "output_type": "stream",
     "text": [
      "hello\n"
     ]
    },
    {
     "data": {
      "text/plain": [
       "['h', 'e', 'l', 'l', 'o']"
      ]
     },
     "execution_count": 41,
     "metadata": {},
     "output_type": "execute_result"
    }
   ],
   "source": [
    "z = 'hello'\n",
    "mylist = \"\" #making empty string\n",
    "for ii in range(0,5):\n",
    "    y = z[ii]\n",
    "    mylist = mylist + (y)\n",
    "print(mylist)\n",
    "list(mylist)\n",
    "    \n",
    "    "
   ]
  },
  {
   "cell_type": "markdown",
   "metadata": {},
   "source": [
    "#6 "
   ]
  },
  {
   "cell_type": "code",
   "execution_count": 8,
   "metadata": {},
   "outputs": [],
   "source": [
    "string_for_slicing = \"Observation date: 02-Feb-2013\"\n",
    "list_for_slicing = [[\"fluorine\", \"F\"],\n",
    "                 [\"chlorine\", \"Cl\"],\n",
    "                 [\"bromine\", \"Br\"],\n",
    "                 [\"iodine\", \"I\"],\n",
    "                 [\"astatine\", \"At\"]]\n",
    "\n"
   ]
  },
  {
   "cell_type": "code",
   "execution_count": 9,
   "metadata": {},
   "outputs": [
    {
     "name": "stdout",
     "output_type": "stream",
     "text": [
      "2013\n"
     ]
    }
   ],
   "source": [
    "lastfour = \"\"\n",
    "for i in range(-4,-0):\n",
    "    lastfour = lastfour + string_for_slicing[i]\n",
    "print(lastfour)"
   ]
  },
  {
   "cell_type": "code",
   "execution_count": 10,
   "metadata": {},
   "outputs": [
    {
     "data": {
      "text/plain": [
       "'chlorine'"
      ]
     },
     "execution_count": 10,
     "metadata": {},
     "output_type": "execute_result"
    }
   ],
   "source": [
    "r = list_for_slicing[1]\n",
    "r[0]"
   ]
  },
  {
   "cell_type": "code",
   "execution_count": 18,
   "metadata": {},
   "outputs": [
    {
     "name": "stdout",
     "output_type": "stream",
     "text": [
      "rinerineminedinetine\n"
     ]
    },
    {
     "data": {
      "text/plain": [
       "['rine', 'rine', 'mine', 'dine', 'tine']"
      ]
     },
     "execution_count": 18,
     "metadata": {},
     "output_type": "execute_result"
    }
   ],
   "source": [
    "length = len(list_for_slicing)\n",
    "finalfour = \"\"\n",
    "for ll in range(0,length):\n",
    "    r = list_for_slicing[ll]\n",
    "    p = r[0]\n",
    "    for z in range(-4,-0):\n",
    "        finalfour = finalfour + p[z]\n",
    "print(finalfour)\n",
    "[finalfour[i:i+4] for i in range(0, len(finalfour), 4)]\n",
    "    \n",
    "\n",
    "    "
   ]
  },
  {
   "cell_type": "markdown",
   "metadata": {},
   "source": [
    "7. as long as i have the string I think I could reference the len(string) to define ranges above and it would still work. "
   ]
  },
  {
   "cell_type": "markdown",
   "metadata": {},
   "source": [
    "8"
   ]
  },
  {
   "cell_type": "code",
   "execution_count": 97,
   "metadata": {},
   "outputs": [
    {
     "name": "stdout",
     "output_type": "stream",
     "text": [
      "subset [2, 7, 17, 29]\n"
     ]
    }
   ],
   "source": [
    "primes = [2, 3, 5, 7, 11, 13, 17, 19, 23, 29, 31, 37]\n",
    "subset = primes[0:12:3]\n",
    "print(\"subset\", subset)"
   ]
  },
  {
   "cell_type": "code",
   "execution_count": 103,
   "metadata": {},
   "outputs": [
    {
     "name": "stdout",
     "output_type": "stream",
     "text": [
      "35\n",
      "I notpssgre ntesae\n"
     ]
    }
   ],
   "source": [
    "beatles = \"In an octopus's garden in the shade\"\n",
    "print(len(beatles))\n",
    "subset = beatles[0:35:2]\n",
    "print(subset)"
   ]
  },
  {
   "cell_type": "markdown",
   "metadata": {},
   "source": [
    "part 4"
   ]
  },
  {
   "cell_type": "markdown",
   "metadata": {},
   "source": [
    "1. running this code would print 'B' because it is the first conditional satisfied and there is not 'and' statement"
   ]
  },
  {
   "cell_type": "code",
   "execution_count": 124,
   "metadata": {},
   "outputs": [
    {
     "name": "stdout",
     "output_type": "stream",
     "text": [
      "{'a', 'e', 'i', 'o', 'u'}\n",
      "18\n"
     ]
    }
   ],
   "source": [
    "t1 = 'squid'\n",
    "t2 = 'fire beatles'\n",
    "t3 = 'black cat aaaeeeeooooiiuuu'\n",
    "vowels = set('aeiou')\n",
    "print(vowels)\n",
    "counts = 0\n",
    "for letter in t3:\n",
    "    if letter in vowels:\n",
    "        counts += 1\n",
    "print(counts)"
   ]
  },
  {
   "cell_type": "code",
   "execution_count": 157,
   "metadata": {},
   "outputs": [
    {
     "name": "stdout",
     "output_type": "stream",
     "text": [
      "     \n",
      "      *\n",
      "     * *\n",
      "    * * *\n",
      "   * * * *\n",
      "  * * * * *\n"
     ]
    }
   ],
   "source": [
    "#extra credit\n",
    "# to make for any size, need to define range by column height + 1\n",
    "#and define the (5-t) as(column height - t)\n",
    "x = ' '\n",
    "for t  in range(0,6):\n",
    "    if t == 0:\n",
    "        print((x*(5-t)) + (t*'*'))\n",
    "    else:\n",
    "        print((x + x*(5-t)) + t*' *')"
   ]
  },
  {
   "cell_type": "code",
   "execution_count": 3,
   "metadata": {},
   "outputs": [
    {
     "name": "stdout",
     "output_type": "stream",
     "text": [
      "['hello', 'my', 'name', 'is']\n"
     ]
    }
   ],
   "source": [
    "mylist = 'hello my name is'.split()\n",
    "print(mylist)"
   ]
  },
  {
   "cell_type": "code",
   "execution_count": 6,
   "metadata": {},
   "outputs": [
    {
     "name": "stdout",
     "output_type": "stream",
     "text": [
      "['hello', 'towel', 'name', 'is']\n"
     ]
    }
   ],
   "source": [
    "mylist[1] = 'towel'\n",
    "print(mylist)"
   ]
  },
  {
   "cell_type": "code",
   "execution_count": 17,
   "metadata": {},
   "outputs": [
    {
     "name": "stdout",
     "output_type": "stream",
     "text": [
      "5\n"
     ]
    }
   ],
   "source": [
    "length = len(list_for_slicing)\n",
    "print(length)"
   ]
  },
  {
   "cell_type": "code",
   "execution_count": null,
   "metadata": {},
   "outputs": [],
   "source": []
  }
 ],
 "metadata": {
  "kernelspec": {
   "display_name": "Python 3",
   "language": "python",
   "name": "python3"
  },
  "language_info": {
   "codemirror_mode": {
    "name": "ipython",
    "version": 3
   },
   "file_extension": ".py",
   "mimetype": "text/x-python",
   "name": "python",
   "nbconvert_exporter": "python",
   "pygments_lexer": "ipython3",
   "version": "3.7.5"
  }
 },
 "nbformat": 4,
 "nbformat_minor": 2
}
