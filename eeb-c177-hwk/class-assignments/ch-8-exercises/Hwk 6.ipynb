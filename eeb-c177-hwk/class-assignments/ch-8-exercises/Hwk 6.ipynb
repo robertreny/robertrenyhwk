{
 "cells": [
  {
   "cell_type": "code",
   "execution_count": 6,
   "metadata": {},
   "outputs": [],
   "source": [
    "from collections import defaultdict"
   ]
  },
  {
   "cell_type": "code",
   "execution_count": 1,
   "metadata": {},
   "outputs": [],
   "source": [
    "#8.1\n",
    "e2f = {'dog': 'chien', 'cat': 'chat', 'walrus': 'walrus'}"
   ]
  },
  {
   "cell_type": "code",
   "execution_count": 4,
   "metadata": {},
   "outputs": [
    {
     "name": "stdout",
     "output_type": "stream",
     "text": [
      "{'dog': 'chien', 'cat': 'chat', 'walrus': 'walrus'}\n"
     ]
    }
   ],
   "source": [
    "#8.2 \n",
    "e2f['walrus']\n",
    "print(e2f)"
   ]
  },
  {
   "cell_type": "code",
   "execution_count": 3,
   "metadata": {},
   "outputs": [
    {
     "name": "stdout",
     "output_type": "stream",
     "text": [
      "dict_items([('dog', 'chien'), ('cat', 'chat'), ('walrus', 'walrus')])\n",
      "{'chien': 'dog', 'chat': 'cat', 'walrus': 'walrus'}\n"
     ]
    }
   ],
   "source": [
    "#8.3\n",
    "inte = list(e2f.items())\n",
    "print(e2f.items())\n",
    "f2e = dict()\n",
    "for eng, french in inte:\n",
    "    f2e[french] = eng\n",
    "print(f2e)\n",
    "    "
   ]
  },
  {
   "cell_type": "code",
   "execution_count": 26,
   "metadata": {},
   "outputs": [
    {
     "name": "stdout",
     "output_type": "stream",
     "text": [
      "dog\n"
     ]
    }
   ],
   "source": [
    "#8.4\n",
    "print(f2e['chien'])"
   ]
  },
  {
   "cell_type": "code",
   "execution_count": 28,
   "metadata": {},
   "outputs": [
    {
     "name": "stdout",
     "output_type": "stream",
     "text": [
      "dict_keys(['dog', 'cat', 'walrus'])\n"
     ]
    }
   ],
   "source": [
    "#8.5\n",
    "print(e2f.keys())"
   ]
  },
  {
   "cell_type": "code",
   "execution_count": 43,
   "metadata": {},
   "outputs": [
    {
     "name": "stdout",
     "output_type": "stream",
     "text": [
      "{'animals': {'octopi': {}, 'emus': {}, 'cats': {'Henri', 'Lucy', 'Grumpy'}}, 'plants': {}, 'other': {}}\n"
     ]
    }
   ],
   "source": [
    "#8.6\n",
    "life = {'animals': {'octopi': {}, 'emus': {}, 'cats': {'Henri', 'Grumpy', 'Lucy'}}, 'plants': {}, 'other': {}}\n",
    "print(life)"
   ]
  },
  {
   "cell_type": "code",
   "execution_count": 44,
   "metadata": {},
   "outputs": [
    {
     "data": {
      "text/plain": [
       "dict_keys(['animals', 'plants', 'other'])"
      ]
     },
     "execution_count": 44,
     "metadata": {},
     "output_type": "execute_result"
    }
   ],
   "source": [
    "#8.7\n",
    "life.keys()"
   ]
  },
  {
   "cell_type": "code",
   "execution_count": 46,
   "metadata": {},
   "outputs": [
    {
     "name": "stdout",
     "output_type": "stream",
     "text": [
      "{'octopi': {}, 'emus': {}, 'cats': {'Henri', 'Lucy', 'Grumpy'}}\n"
     ]
    }
   ],
   "source": [
    "#8.8\n",
    "print(life['animals'])\n"
   ]
  },
  {
   "cell_type": "code",
   "execution_count": 47,
   "metadata": {},
   "outputs": [
    {
     "name": "stdout",
     "output_type": "stream",
     "text": [
      "{'Henri', 'Lucy', 'Grumpy'}\n"
     ]
    }
   ],
   "source": [
    "#8.9\n",
    "print(life['animals']['cats'])"
   ]
  },
  {
   "cell_type": "code",
   "execution_count": 49,
   "metadata": {},
   "outputs": [
    {
     "name": "stdout",
     "output_type": "stream",
     "text": [
      "{0: 0, 1: 1, 2: 4, 3: 9, 4: 16, 5: 25, 6: 36, 7: 49, 8: 64, 9: 81}\n"
     ]
    }
   ],
   "source": [
    "#8.10\n",
    "squares = {n: n*n for n in range(10)}\n",
    "print(squares)"
   ]
  },
  {
   "cell_type": "code",
   "execution_count": 56,
   "metadata": {},
   "outputs": [
    {
     "data": {
      "text/plain": [
       "{1, 3, 5, 7, 9}"
      ]
     },
     "execution_count": 56,
     "metadata": {},
     "output_type": "execute_result"
    }
   ],
   "source": [
    "#8.11\n",
    "{i for i in range(10) if i%2} #i%2 is all divisible by 2 and is not included\n"
   ]
  },
  {
   "cell_type": "code",
   "execution_count": 2,
   "metadata": {},
   "outputs": [
    {
     "name": "stdout",
     "output_type": "stream",
     "text": [
      "got  0\n",
      "got  1\n",
      "got  2\n",
      "got  3\n",
      "got  4\n",
      "got  5\n",
      "got  6\n",
      "got  7\n",
      "got  8\n",
      "got  9\n"
     ]
    }
   ],
   "source": [
    "#8.12\n",
    "for n in range(10):\n",
    "    print('got ', n)"
   ]
  },
  {
   "cell_type": "code",
   "execution_count": 8,
   "metadata": {},
   "outputs": [
    {
     "name": "stdout",
     "output_type": "stream",
     "text": [
      "<zip object at 0x7f685420caf0>\n",
      "{'optimist': 'The glass is half full', 'pessimist': 'The glass is half empty', 'troll': 'How did you get a glass?'}\n"
     ]
    }
   ],
   "source": [
    "#8.13\n",
    "d1 = ('optimist', 'pessimist', 'troll')\n",
    "d2 =('The glass is half full', 'The glass is half empty', 'How did you get a glass?')\n",
    "\n",
    "d3 = zip(d1,d2)\n",
    "print(d3)\n",
    "d3 = dict(d3)\n",
    "print(d3)"
   ]
  },
  {
   "cell_type": "code",
   "execution_count": 9,
   "metadata": {},
   "outputs": [
    {
     "name": "stdout",
     "output_type": "stream",
     "text": [
      "{'Creature of Habit': 'A nun turns into a monster', 'Crewel Fate': 'A haunted yarn shop', 'Sharks On a Plane': 'Check your exits'}\n"
     ]
    }
   ],
   "source": [
    "#8.14\n",
    "titles = ['Creature of Habit', 'Crewel Fate', 'Sharks On a Plane'] \n",
    "plots = ['A nun turns into a monster', 'A haunted yarn shop', 'Check your exits']\n",
    "\n",
    "movies= zip(titles,plots)\n",
    "movies = dict(movies)\n",
    "print(movies)"
   ]
  },
  {
   "cell_type": "code",
   "execution_count": null,
   "metadata": {},
   "outputs": [],
   "source": []
  }
 ],
 "metadata": {
  "kernelspec": {
   "display_name": "Python 3",
   "language": "python",
   "name": "python3"
  },
  "language_info": {
   "codemirror_mode": {
    "name": "ipython",
    "version": 3
   },
   "file_extension": ".py",
   "mimetype": "text/x-python",
   "name": "python",
   "nbconvert_exporter": "python",
   "pygments_lexer": "ipython3",
   "version": "3.7.5"
  }
 },
 "nbformat": 4,
 "nbformat_minor": 2
}
